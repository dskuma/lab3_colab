{
 "cells": [
  {
   "cell_type": "markdown",
   "id": "b4fcbbf9",
   "metadata": {},
   "source": [
    "# Phase 2 - Transfer Learning on CIFAR10"
   ]
  },
  {
   "cell_type": "code",
   "execution_count": null,
   "id": "6dc76898",
   "metadata": {},
   "outputs": [],
   "source": [
    "import torch\n",
    "import torch.nn as nn\n",
    "import torchvision.models as models\n",
    "import torchvision.datasets as datasets\n",
    "import torchvision.transforms as transforms\n",
    "import time\n",
    "import os\n",
    "import copy\n",
    "\n",
    "import matplotlib.pyplot as plt\n",
    "import numpy as np"
   ]
  },
  {
   "cell_type": "markdown",
   "id": "a8abb2fe",
   "metadata": {},
   "source": [
    "## Download and Load CIFAR10 \n",
    "\n",
    "You can find CIFAR10 in ```torchvision.datasets.CIFAR10()```. Please Download the dataset and use Dataloaders to load it."
   ]
  },
  {
   "cell_type": "code",
   "execution_count": null,
   "id": "305bb50d",
   "metadata": {},
   "outputs": [],
   "source": [
    "transform = transforms.Compose(\n",
    "    [transforms.ToTensor(),\n",
    "     transforms.Normalize((0.5, 0.5, 0.5), (0.5, 0.5, 0.5))])\n",
    "\n",
    "batch_size = 100\n",
    "\n",
    "train_set = ''' TODO '''\n",
    "\n",
    "train_loader = ''' TODO '''\n",
    "\n",
    "testset = ''' TODO '''\n",
    "\n",
    "test_loader = ''' TODO '''\n",
    "\n",
    "classes = ('plane', 'car', 'bird', 'cat',\n",
    "           'deer', 'dog', 'frog', 'horse', 'ship', 'truck')"
   ]
  },
  {
   "cell_type": "markdown",
   "id": "c8621338",
   "metadata": {},
   "source": [
    "## Load Pretrained Model (ResNet18) and Modify Layers\n",
    "Load ResNet18 model from ```torchvision.models.resnet18()```, make sure to load pretrained model with weights.\n",
    "You will need to freeze the weights and modify the final layer. ResNet outputs 100 lables - please change to the correct output dimension."
   ]
  },
  {
   "cell_type": "code",
   "execution_count": null,
   "id": "e0b56531",
   "metadata": {},
   "outputs": [],
   "source": [
    "# Instantiate Pretrained ResNet18\n",
    "resnet18 = ''' TODO '''\n",
    "\n",
    "# Freeze Layers\n",
    "''' TODO '''\n",
    "\n",
    "# Modify final layer\n",
    "''' TODO '''\n",
    "\n",
    "# Load onto GPU\n",
    "''' TODO '''\n",
    "\n",
    "# View Model to validate\n",
    "print(resnet18)"
   ]
  },
  {
   "cell_type": "markdown",
   "id": "f8d2c406",
   "metadata": {},
   "source": [
    "## Train and Test Functions\n",
    "You can refer to Phase_1.ipynb to complete these functions. In ```train()```, rather than saving the accuracy and loss per ```stat_count```, you will need to save the loss and accuracy ***per epoch***"
   ]
  },
  {
   "cell_type": "code",
   "execution_count": null,
   "id": "5b815119",
   "metadata": {},
   "outputs": [],
   "source": [
    "# Train Function\n",
    "def train(''' TODO '''):\n",
    "    ''' TODO '''\n",
    "    \n",
    "# Test Function\n",
    "def test_accuracy(''' TODO '''):\n",
    "    ''' TODO '''\n",
    "    \n",
    "# Plot Learning Curves\n",
    "def plot_learning_curve(''' TODO '''):\n",
    "    ''' TODO '''\n"
   ]
  },
  {
   "cell_type": "markdown",
   "id": "a40c0644",
   "metadata": {},
   "source": [
    "## Complete full training and testing pipeline\n",
    "Retrain the final layer of ResNet18 on CIFAR10 Dataset. You can chose the optimizer and loss function."
   ]
  },
  {
   "cell_type": "code",
   "execution_count": null,
   "id": "d223f8c8",
   "metadata": {},
   "outputs": [],
   "source": [
    "# Define Parameters\n",
    "num_epochs = 10\n",
    "''' TODO '''\n",
    "\n",
    "# Define Loss func and Optimizer\n",
    "''' TODO '''\n",
    "\n",
    "# Train Model\n",
    "''' TODO '''\n",
    "\n",
    "# Plot Learning Curves\n",
    "''' TODO '''\n",
    "\n",
    "# Evaluate on Test Set\n",
    "''' TODO '''"
   ]
  }
 ],
 "metadata": {
  "kernelspec": {
   "display_name": "Python 3 (ipykernel)",
   "language": "python",
   "name": "python3"
  },
  "language_info": {
   "codemirror_mode": {
    "name": "ipython",
    "version": 3
   },
   "file_extension": ".py",
   "mimetype": "text/x-python",
   "name": "python",
   "nbconvert_exporter": "python",
   "pygments_lexer": "ipython3",
   "version": "3.8.13"
  }
 },
 "nbformat": 4,
 "nbformat_minor": 5
}
