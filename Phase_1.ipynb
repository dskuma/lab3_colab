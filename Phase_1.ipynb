{
 "cells": [
  {
   "cell_type": "markdown",
   "id": "b4fcbbf9",
   "metadata": {},
   "source": [
    "# Phase 1 - Neural Networks"
   ]
  },
  {
   "cell_type": "code",
   "execution_count": null,
   "id": "6dc76898",
   "metadata": {},
   "outputs": [],
   "source": [
    "import torch\n",
    "import torch.nn as nn\n",
    "import torchvision.datasets as datasets\n",
    "import torchvision.transforms as transforms\n",
    "import time \n",
    "import matplotlib.pyplot as plt\n",
    "import numpy as np"
   ]
  },
  {
   "cell_type": "markdown",
   "id": "eefd27b6",
   "metadata": {},
   "source": [
    "## Test Function"
   ]
  },
  {
   "cell_type": "code",
   "execution_count": null,
   "id": "5f8c1f20",
   "metadata": {},
   "outputs": [],
   "source": [
    "def test_accuracy(model, test_loader, input_size, device=None):\n",
    "    if device is not None:\n",
    "        model.to(device)\n",
    "    else:\n",
    "        device = torch.device('cuda:0' if torch.cuda.is_available() else 'cpu')\n",
    "        model.to(device)\n",
    "    correct = 0\n",
    "    total = 0\n",
    "    with torch.no_grad():\n",
    "        for test_data in test_loader:\n",
    "            images, labels = test_data[0].cuda(), test_data[1].cuda()\n",
    "            images = images.view(-1, input_size)\n",
    "            outputs = net(images)\n",
    "            _, predicted = torch.max(outputs.data, 1)\n",
    "            total += labels.size(0)\n",
    "            correct += (predicted == labels).sum().item()\n",
    "    print('Accuracy of the network on the test images: %d %%' % (100 * correct / total))\n"
   ]
  },
  {
   "cell_type": "markdown",
   "id": "1e7f84cf",
   "metadata": {},
   "source": [
    "## Train Function\n",
    "Please refer to the train function in MNIST_Classifier.ipynb to complete this function. You will need to store the store the loss and accuracies per iteration to plot. Please print the loss, accuracy and time taken for training each epoch."
   ]
  },
  {
   "cell_type": "code",
   "execution_count": null,
   "id": "04f8929f",
   "metadata": {},
   "outputs": [],
   "source": [
    "def train(model, loss_fn, optimizer, train_loader, batch_size, num_epochs, input_size, stat_count=100, device=None):\n",
    "    for epoch in range(num_epochs):\n",
    "        start_time = time.process_time()\n",
    "        correct, total = 0\n",
    "        for i, data in enumerate(train_loader,0): #training one epoch\n",
    "            #flatten your image to one vector\n",
    "            images, labels = data[0].cuda(), data[1].cuda()\n",
    "            images = images.view(-1,input_size)\n",
    "            optimizer.zero_grad() #Zero Collected Gradients at \n",
    "            outputs = net(images) # forward \n",
    "            loss = los_fn(outputs, labels)\n",
    "            loss.backward() #back prop to get loss\n",
    "            optimizer.step() #updating weights\n",
    "        total_time = time.process_time() - start_time\n",
    "        with torch.no_grad():  #evaluation on the epoch trained weights\n",
    "            for test_data in test_loader:\n",
    "                images, labels = test_data[0].cuda(), test_data[1].cuda()\n",
    "                images = images.view(-1, input_size)\n",
    "                outputs = net(images)\n",
    "                _, predicted = torch.max(outputs.data, 1)\n",
    "                total += labels.size(0)\n",
    "                correct += (predicted == labels).sum().item()\n",
    "            acc = correct*100/total\n",
    "\n",
    "        print(\"Epoch: {} of {}  Loss: {%.3f} Accuracy Percentage: {} Time Taken this Epoch: {}\".format(epoch,\n",
    "                                                                                        num_epochs,\n",
    "                                                                                        loss.item,acc,total_time))\n",
    "            \n",
    "    \n",
    "    "
   ]
  },
  {
   "cell_type": "markdown",
   "id": "ab00c312",
   "metadata": {},
   "source": [
    "## Plot Learning Curves Function\n",
    "Plot the loss and accuracies from training"
   ]
  },
  {
   "cell_type": "code",
   "execution_count": null,
   "id": "77d3a47d",
   "metadata": {},
   "outputs": [],
   "source": [
    "def plot_learning_curve(''' TODO '''):\n",
    "    ''' TODO '''"
   ]
  },
  {
   "cell_type": "markdown",
   "id": "e59309fc",
   "metadata": {},
   "source": [
    "## Downloading MNIST"
   ]
  },
  {
   "cell_type": "code",
   "execution_count": null,
   "id": "d04e0053",
   "metadata": {},
   "outputs": [],
   "source": [
    "train_data = ''' TODO '''\n",
    "\n",
    "test_data = ''' TODO '''"
   ]
  },
  {
   "cell_type": "code",
   "execution_count": null,
   "id": "e7244f71",
   "metadata": {},
   "outputs": [],
   "source": [
    "batch_size = 100 \n",
    "\n",
    "train_loader = ''' TODO '''\n",
    "\n",
    "test_loader = ''' TODO '''"
   ]
  },
  {
   "cell_type": "markdown",
   "id": "971035a3",
   "metadata": {},
   "source": [
    "## Train, Evaluate on 1-Layer Model & Paramter Tuning\n",
    "Here, you can test changing the different paramters and see the effect on training. Please follow the Lab 3 assignment. Feel free to create seperate code cells for testing the different paramters"
   ]
  },
  {
   "cell_type": "code",
   "execution_count": null,
   "id": "efe0492a",
   "metadata": {},
   "outputs": [],
   "source": [
    "# Define Parameters\n",
    "input_size = 784\n",
    "num_classes = 10 \n",
    "lr = 0.01\n",
    "num_epochs = 5\n",
    "\n",
    "# Create a 1-Layer Neural Network called Net\n",
    "class Net(nn.Module):\n",
    "    def __init__(self, input_size, num_classes):\n",
    "        super(Net,self).__init__()\n",
    "        self.fc1 = nn.Linear(input_size, 500)\n",
    "        self.relu = nn.ReLU()\n",
    "        self.fc2 = nn.Linear(500, num_classes)\n",
    "  \n",
    "    def forward(self,x):\n",
    "        out = self.fc1(x)\n",
    "        out = self.relu(out)\n",
    "        out = self.fc2(out)\n",
    "        return out\n",
    "\n",
    "# Instantiate Model\n",
    "net = Net(input_size, num_classes)\n",
    "device = torch.device('cuda:0' if torch.cuda.is_available() else 'cpu')\n",
    "net.to(device)\n",
    "\n",
    "# Define Loss func and Optimizer\n",
    "loss_function = nn.CrossEntropyLoss()\n",
    "optimizer = torch.optim.Adam(net.parameters(), lr=lr)\n",
    "\n",
    "# Train Model\n",
    "fit(model=net, loss_fn=loss_function, optimizer=optimizer, train_loader=train_loader, batch_size=batch_size, num_epochs=num_epochs, input_size=input_size)\n",
    "\n",
    "# Plot Learning Curves\n",
    "plot_learning_curve(''' TODO ''')\n",
    "\n",
    "# Evaluate on Test Set\n",
    "test_accuracy(model=net, test_loader=test_loader, input_size=input_size) "
   ]
  },
  {
   "cell_type": "markdown",
   "id": "39b2cacd",
   "metadata": {},
   "source": [
    "## Network Architectures\n",
    "\n",
    "You must create a 2-Layer model (```Net2```) and 5-Layer model  (```Net5```) by inheriting from ```nn.Module``` given the architecture in 1.2.1\n",
    "\n",
    "### Build the 2-Layer model\n",
    "Network Architecture:\n",
    "* ***Layer 1***: Convolutional; input channel = 1, output channel = 20, kernel size = 3, step size = 1.\n",
    "* ***Layer 2***: Fully connected; input dimension = < you find out >, output dimension = < you find out >."
   ]
  },
  {
   "cell_type": "code",
   "execution_count": null,
   "id": "79c468ca",
   "metadata": {},
   "outputs": [],
   "source": [
    "# Define Parameters\n",
    "input_size = 784\n",
    "num_classes = 10 \n",
    "num_epochs = 5\n",
    "lr = ''' TODO '''\n",
    "\n",
    "# Define 2-Layer Network\n",
    "class Net2(nn.Module):\n",
    "    ''' TODO '''\n",
    "    \n",
    "# Instantiate Model Net2() and load onto GPU\n",
    "''' TODO '''\n",
    "\n",
    "# Define Loss func and Optimizer\n",
    "loss_function = nn.CrossEntropyLoss()\n",
    "optimizer = torch.optim.Adam(net.parameters(), lr=lr)\n",
    "\n",
    "# Train Model\n",
    "train(model=net, loss_fn=loss_function, optimizer=optimizer, train_loader=train_loader, batch_size=batch_size, num_epochs=num_epochs, input_size=input_size)\n",
    "\n",
    "# Plot Learning Curves\n",
    "plot_learning_curve(''' TODO ''')\n",
    "\n",
    "# Evaluate on Test Set\n",
    "test_accuracy(model=net, test_loader=test_loader, input_size=input_size) "
   ]
  },
  {
   "cell_type": "markdown",
   "id": "060e7b1b",
   "metadata": {},
   "source": [
    "### Creating a 5-Layer Model\n",
    "Similar to the 2-Layer model, make a new class ```Net5```\n",
    "\n",
    "* ***Layer 1***: Convolutional, input channel = 1, output channel = 32, kernel size = 5, stride = 1, padding = 2.\n",
    "* ***Layer 2***: Pooling, kernel size = 2, stride = 2.\n",
    "* ***Layer 3***: Convolutional, input channel = < you find out> , output channel = 64, kernel size = 5, stride = 1 padding = 2.\n",
    "* ***Layer 4***: Fully connected, input channel = < you find out>, output channel = 1024.\n",
    "* ***Layer 5***: Fully connected, input channel = < you find out>, < you find out >\n",
    "\n",
    "Use the same Loss and Optimizer functions are the 2-Layer Model (see 1.2.3)\n",
    "\n",
    "You will use the same train, test functions from 1.2"
   ]
  },
  {
   "cell_type": "code",
   "execution_count": null,
   "id": "c7515f9b",
   "metadata": {},
   "outputs": [],
   "source": [
    "# Define Parameters\n",
    "input_size = 784\n",
    "num_classes = 10 \n",
    "num_epochs = 5\n",
    "lr = ''' TODO '''\n",
    "\n",
    "# Define 5-Layer Network\n",
    "class Net5(nn.Module):\n",
    "    ''' TODO '''\n",
    "    \n",
    "# Instantiate Model Net5() and load onto GPU\n",
    "''' TODO '''\n",
    "\n",
    "# Define Loss func and Optimizer\n",
    "loss_function = nn.CrossEntropyLoss()\n",
    "optimizer = torch.optim.Adam(net.parameters(), lr=lr)\n",
    "\n",
    "# Train Model\n",
    "train(model=net, loss_fn=loss_function, optimizer=optimizer, train_loader=train_loader, batch_size=batch_size, num_epochs=num_epochs, input_size=input_size)\n",
    "\n",
    "# Plot Learning Curves\n",
    "plot_learning_curve(''' TODO ''')\n",
    "\n",
    "# Evaluate on Test Set\n",
    "test_accuracy(model=net, test_loader=test_loader, input_size=input_size) "
   ]
  },
  {
   "cell_type": "code",
   "execution_count": null,
   "id": "305bb50d",
   "metadata": {},
   "outputs": [],
   "source": []
  }
 ],
 "metadata": {
  "kernelspec": {
   "display_name": "Python 3 (ipykernel)",
   "language": "python",
   "name": "python3"
  },
  "language_info": {
   "codemirror_mode": {
    "name": "ipython",
    "version": 3
   },
   "file_extension": ".py",
   "mimetype": "text/x-python",
   "name": "python",
   "nbconvert_exporter": "python",
   "pygments_lexer": "ipython3",
   "version": "3.8.13"
  }
 },
 "nbformat": 4,
 "nbformat_minor": 5
}
