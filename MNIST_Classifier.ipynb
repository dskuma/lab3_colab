{
 "cells": [
  {
   "cell_type": "markdown",
   "id": "b4fcbbf9",
   "metadata": {},
   "source": [
    "# MNIST Digit Classification\n",
    "Now that you have some basic familiarity with Pytorch and torch tensors, we can start to work with Pytorch to create an image classifier with a neural network. \n",
    "\n",
    "## Getting Started\n",
    "We first need to import all the necessary modules from Pytorch that we'll need to make our image classification neural network. "
   ]
  },
  {
   "cell_type": "code",
   "execution_count": 21,
   "id": "6dc76898",
   "metadata": {},
   "outputs": [],
   "source": [
    "import torch\n",
    "import torch.nn as nn\n",
    "import torchvision.datasets as datasets\n",
    "import torchvision.transforms as transforms\n",
    "import matplotlib.pyplot as plt\n",
    "import numpy as np"
   ]
  },
  {
   "cell_type": "markdown",
   "id": "eefd27b6",
   "metadata": {},
   "source": [
    "## Defining Hyperparameters\n",
    "Hyperparameters are how you as an engineer control the performance of the model itself. "
   ]
  },
  {
   "cell_type": "code",
   "execution_count": 22,
   "id": "abb939b9",
   "metadata": {},
   "outputs": [],
   "source": [
    "input_size = 784\n",
    "num_classes = 10 \n",
    "num_epochs = 2\n",
    "batch_size = 100 \n",
    "lr = 1e-3"
   ]
  },
  {
   "cell_type": "markdown",
   "id": "1ab16498",
   "metadata": {},
   "source": [
    "An explanation of each hyperparameter:\n",
    "\n",
    "\n",
    "*   ```input_size```: The size of the input data\n",
    "*   ```num_classes```: The number of output classes\n",
    "*   ```num_epochs```: The number of times the training data will be passed over\n",
    "*   ```batch_size```: The number of images we process at each training step\n",
    "*   ```lr```: The Learning Rate at which the optimizer updates each weight"
   ]
  },
  {
   "cell_type": "markdown",
   "id": "e59309fc",
   "metadata": {},
   "source": [
    "## Downloading MNIST\n",
    "We will now download and load the MNIST dataset. We load data  to train on, as well as test data to track the model's performance. Here we use the dataset module from Pytorch in order to download and load MNIST. We also use the transform package to make everything Torch tensors. "
   ]
  },
  {
   "cell_type": "code",
   "execution_count": 23,
   "id": "d04e0053",
   "metadata": {},
   "outputs": [],
   "source": [
    "train_data = datasets.MNIST(root = './data', train = True,\n",
    "                        transform = transforms.ToTensor(), download = True)\n",
    "\n",
    "test_data = datasets.MNIST(root = './data', train = False,\n",
    "                       transform = transforms.ToTensor())"
   ]
  },
  {
   "cell_type": "markdown",
   "id": "44fb2fd0",
   "metadata": {},
   "source": [
    "Next we use a Pytorch dataloader so we can efficiently send batches of training data from our dataset to our model. The Pytorch dataloader is a memory efficient way to accomplish this."
   ]
  },
  {
   "cell_type": "code",
   "execution_count": 24,
   "id": "e7244f71",
   "metadata": {},
   "outputs": [],
   "source": [
    "train_loader = torch.utils.data.DataLoader(dataset = train_data,\n",
    "                                             batch_size = batch_size,\n",
    "                                             shuffle = True)\n",
    "\n",
    "test_loader = torch.utils.data.DataLoader(dataset = test_data,\n",
    "                                      batch_size = batch_size, \n",
    "                                      shuffle = False)"
   ]
  },
  {
   "cell_type": "markdown",
   "id": "af52633d",
   "metadata": {},
   "source": [
    "### Visualize Data"
   ]
  },
  {
   "cell_type": "code",
   "execution_count": 25,
   "id": "961d72e7",
   "metadata": {},
   "outputs": [
    {
     "ename": "AttributeError",
     "evalue": "module 'numpy' has no attribute 'utils'",
     "output_type": "error",
     "traceback": [
      "\u001b[0;31m---------------------------------------------------------------------------\u001b[0m",
      "\u001b[0;31mAttributeError\u001b[0m                            Traceback (most recent call last)",
      "Input \u001b[0;32mIn [25]\u001b[0m, in \u001b[0;36m<cell line: 14>\u001b[0;34m()\u001b[0m\n\u001b[1;32m     11\u001b[0m images, labels \u001b[38;5;241m=\u001b[39m dataiter\u001b[38;5;241m.\u001b[39mnext()\n\u001b[1;32m     13\u001b[0m \u001b[38;5;66;03m# show images\u001b[39;00m\n\u001b[0;32m---> 14\u001b[0m imshow(\u001b[43mnp\u001b[49m\u001b[38;5;241;43m.\u001b[39;49m\u001b[43mutils\u001b[49m\u001b[38;5;241m.\u001b[39mmake_grid(images))\n\u001b[1;32m     15\u001b[0m \u001b[38;5;28mprint\u001b[39m(\u001b[38;5;124m'\u001b[39m\u001b[38;5;124m \u001b[39m\u001b[38;5;124m'\u001b[39m\u001b[38;5;241m.\u001b[39mjoin(\u001b[38;5;124m'\u001b[39m\u001b[38;5;132;01m%d\u001b[39;00m\u001b[38;5;124m'\u001b[39m \u001b[38;5;241m%\u001b[39m classes[labels[j]] \u001b[38;5;28;01mfor\u001b[39;00m j \u001b[38;5;129;01min\u001b[39;00m \u001b[38;5;28mrange\u001b[39m(batch_size)))\n",
      "File \u001b[0;32m/miniconda3/lib/python3.8/site-packages/numpy/__init__.py:313\u001b[0m, in \u001b[0;36m__getattr__\u001b[0;34m(attr)\u001b[0m\n\u001b[1;32m    310\u001b[0m     \u001b[38;5;28;01mfrom\u001b[39;00m \u001b[38;5;21;01m.\u001b[39;00m\u001b[38;5;21;01mtesting\u001b[39;00m \u001b[38;5;28;01mimport\u001b[39;00m Tester\n\u001b[1;32m    311\u001b[0m     \u001b[38;5;28;01mreturn\u001b[39;00m Tester\n\u001b[0;32m--> 313\u001b[0m \u001b[38;5;28;01mraise\u001b[39;00m \u001b[38;5;167;01mAttributeError\u001b[39;00m(\u001b[38;5;124m\"\u001b[39m\u001b[38;5;124mmodule \u001b[39m\u001b[38;5;132;01m{!r}\u001b[39;00m\u001b[38;5;124m has no attribute \u001b[39m\u001b[38;5;124m\"\u001b[39m\n\u001b[1;32m    314\u001b[0m                      \u001b[38;5;124m\"\u001b[39m\u001b[38;5;132;01m{!r}\u001b[39;00m\u001b[38;5;124m\"\u001b[39m\u001b[38;5;241m.\u001b[39mformat(\u001b[38;5;18m__name__\u001b[39m, attr))\n",
      "\u001b[0;31mAttributeError\u001b[0m: module 'numpy' has no attribute 'utils'"
     ]
    }
   ],
   "source": [
    "classes = (0, 1, 2, 3, 4, 5, 6, 7, 8, 9)\n",
    "\n",
    "def imshow(img):\n",
    "    npimg = img.numpy()\n",
    "    plt.imshow(np.transpose(npimg, (1, 2, 0)))\n",
    "    plt.show()\n",
    "\n",
    "\n",
    "# get some random training images\n",
    "dataiter = iter(train_loader)\n",
    "images, labels = dataiter.next()\n",
    "\n",
    "# show images\n",
    "imshow(np.utils.make_grid(images))\n",
    "print(' '.join('%d' % classes[labels[j]] for j in range(batch_size)))"
   ]
  },
  {
   "cell_type": "markdown",
   "id": "39b2cacd",
   "metadata": {},
   "source": [
    "## Define Network Architecture\n",
    "After loading the data, we now need to define our network architecture using the torch nn module. We do this by inheriting from the nn.Module class. Our initial basic model is very simple. We have one hidden layer with 500 neurons, connecting our input to our output. The activation function we use is ReLU."
   ]
  },
  {
   "cell_type": "code",
   "execution_count": 33,
   "id": "33fe7011",
   "metadata": {},
   "outputs": [],
   "source": [
    "# Create a 1-Layer Neural Network called Net\n",
    "class Net(nn.Module):\n",
    "  def __init__(self, input_size, num_classes):\n",
    "    super(Net,self).__init__() ##Why?\n",
    "    self.fc1 = nn.Linear(input_size, 500)\n",
    "    self.relu = nn.ReLU()\n",
    "    self.fc2 = nn.Linear(500, num_classes)\n",
    "  \n",
    "  def forward(self,x):\n",
    "    out = self.fc1(x)\n",
    "    out = self.relu(out)\n",
    "    out = self.fc2(out)\n",
    "    return out"
   ]
  },
  {
   "cell_type": "markdown",
   "id": "e990b8d7",
   "metadata": {},
   "source": [
    "For each network you define you must specify the layers and order of each layers in the class in the constructor. You specify how the forward propagation works for each layer using the forward function. The backpropagation step will then be automatically done by Pytorch with order of execution specified as the reverse of the forward function. \n",
    "\n"
   ]
  },
  {
   "cell_type": "markdown",
   "id": "068b6a03",
   "metadata": {},
   "source": [
    "## Load the Network"
   ]
  },
  {
   "cell_type": "code",
   "execution_count": 34,
   "id": "e07ff256",
   "metadata": {},
   "outputs": [
    {
     "name": "stdout",
     "output_type": "stream",
     "text": [
      "cuda:0\n"
     ]
    }
   ],
   "source": [
    "net = Net(input_size, num_classes)\n",
    "device = torch.device('cuda:0' if torch.cuda.is_available() else 'cpu')\n",
    "net.to(device)\n",
    "print(device)"
   ]
  },
  {
   "cell_type": "markdown",
   "id": "cf777dba",
   "metadata": {},
   "source": [
    "\n",
    "## Define a Loss Function and Instantiate an Optimizer"
   ]
  },
  {
   "cell_type": "code",
   "execution_count": 35,
   "id": "f7fb9f3c",
   "metadata": {},
   "outputs": [],
   "source": [
    "loss_function = nn.CrossEntropyLoss()\n",
    "optimizer = torch.optim.Adam(net.parameters(), lr=lr)"
   ]
  },
  {
   "cell_type": "markdown",
   "id": "fc750347",
   "metadata": {},
   "source": [
    "We define a loss function variable and then instantiate an optimizer according to our network parameters with the learning rate we specified in our hyperparameters. Here we use the ADAM optimizer instead of the gradient descent algorithm we studied in class. They both still accomplish the same thing for us, which is updating the weights of our network. If you'd like to know the details of ADAM and optimization in general, I encourage you to read through [this textbook chapter](https://d2l.ai/chapter_optimization/).\n",
    "\n",
    "## Start the Training Loop\n",
    "After loading our data, specifying the model architecture, defining a loss function, and specifying an optimizer, we can move to actually training the model. The following code demonstrates how to run the training loop."
   ]
  },
  {
   "cell_type": "code",
   "execution_count": 37,
   "id": "60f4aeea",
   "metadata": {},
   "outputs": [
    {
     "name": "stdout",
     "output_type": "stream",
     "text": [
      "Epoch [1/2], Step [100/600], Loss: 0.0340\n",
      "Epoch [1/2], Step [200/600], Loss: 0.1045\n",
      "Epoch [1/2], Step [300/600], Loss: 0.0298\n",
      "Epoch [1/2], Step [400/600], Loss: 0.1190\n",
      "Epoch [1/2], Step [500/600], Loss: 0.0437\n",
      "Epoch [1/2], Step [600/600], Loss: 0.0457\n",
      "Epoch [2/2], Step [100/600], Loss: 0.0424\n",
      "Epoch [2/2], Step [200/600], Loss: 0.0171\n",
      "Epoch [2/2], Step [300/600], Loss: 0.0441\n",
      "Epoch [2/2], Step [400/600], Loss: 0.0200\n",
      "Epoch [2/2], Step [500/600], Loss: 0.0719\n",
      "Epoch [2/2], Step [600/600], Loss: 0.0503\n"
     ]
    }
   ],
   "source": [
    "# Iterate through all Epochs\n",
    "for epoch in range(num_epochs):\n",
    "  # Iterate through training dataset\n",
    "  for i, data in enumerate(train_loader, 0):\n",
    "    # Flatten images and load images/labels\n",
    "    images, labels = data[0].cuda(), data[1].cuda()\n",
    "    images = images.view(-1, input_size)\n",
    "    # Zero collected gradients at each step\n",
    "    optimizer.zero_grad()\n",
    "    # Forward Propagate\n",
    "    outputs = net(images)\n",
    "    # Calculate Loss\n",
    "    loss = loss_function(outputs, labels)\n",
    "    # Back propagate\n",
    "    loss.backward()\n",
    "    # Update weights\n",
    "    optimizer.step()\n",
    "    \n",
    "    # Print statistics on every 100th iteration\n",
    "    if (i+1) % 100 == 0:\n",
    "      print('Epoch [%d/%d], Step [%d/%d], Loss: %.4f'\n",
    "                 %(epoch+1, num_epochs, i+1, \n",
    "                   len(train_data)//batch_size, loss.item()))"
   ]
  },
  {
   "cell_type": "markdown",
   "id": "a472b58a",
   "metadata": {},
   "source": [
    "## Evaluate the Performance of your Model\n",
    "The following code snippet demonstrates how to evaluate the performane of the model's current weights using the test data we loaded earlier."
   ]
  },
  {
   "cell_type": "code",
   "execution_count": 38,
   "id": "9fcdf273",
   "metadata": {},
   "outputs": [
    {
     "name": "stdout",
     "output_type": "stream",
     "text": [
      "Accuracy of the network on the 10000 test images: 97 %\n"
     ]
    }
   ],
   "source": [
    "correct = 0\n",
    "total = 0\n",
    "with torch.no_grad():\n",
    "    for test_data in test_loader:\n",
    "        images, labels = test_data[0].cuda(), test_data[1].cuda()\n",
    "        images = images.view(-1, input_size)\n",
    "        outputs = net(images)\n",
    "        _, predicted = torch.max(outputs.data, 1)\n",
    "        total += labels.size(0)\n",
    "        correct += (predicted == labels).sum().item()\n",
    "\n",
    "print('Accuracy of the network on the 10000 test images: %d %%' % (\n",
    "    100 * correct / total))"
   ]
  },
  {
   "cell_type": "markdown",
   "id": "c87690ac",
   "metadata": {},
   "source": [
    "## Utility Functions\n",
    "Below are two utility functions that wrap the training loop and test accuracy functions into singular methods. This should help you to more easily iterate over different hyperparameter configurations for the assignment. The second cell illustrates the usage of both functions with our initial model. "
   ]
  },
  {
   "cell_type": "code",
   "execution_count": 39,
   "id": "46d4e9ee",
   "metadata": {},
   "outputs": [],
   "source": [
    "def fit(model, loss_fn, optimizer, train_loader, batch_size, num_epochs, input_size, stat_count=100, device=None):\n",
    "    if device is not None:\n",
    "        model.to(device)\n",
    "    else:\n",
    "        device = torch.device('cuda:0' if torch.cuda.is_available() else 'cpu')\n",
    "        model.to(device)\n",
    "    # Iterate through all Epochs\n",
    "    for epoch in range(num_epochs):\n",
    "        # Iterate through training dataset\n",
    "        for i, data in enumerate(train_loader, 0):\n",
    "            # Flatten images and load images/labels onto GPU\n",
    "            images, labels = data[0].to(device), data[1].to(device)\n",
    "            images = images.view(-1, input_size)\n",
    "            # Zero collected gradients at each step\n",
    "            optimizer.zero_grad()\n",
    "            # Forward Propagate\n",
    "            outputs = model(images)\n",
    "            # Calculate Loss\n",
    "            loss = loss_fn(outputs, labels)\n",
    "            # Back propagate\n",
    "            loss.backward()\n",
    "            # Update weights\n",
    "            optimizer.step()\n",
    "            \n",
    "            # Print statistics on every stat_count iteration\n",
    "            if (i+1) % stat_count == 0:\n",
    "                print('Epoch [%d/%d], Step [%d/%d], Loss: %.4f'\n",
    "                            %(epoch+1, num_epochs, i+1, \n",
    "                            len(train_loader), loss.item()))\n",
    "\n",
    "def test_accuracy(model, test_loader, input_size, device=None):\n",
    "    if device is not None:\n",
    "        model.to(device)\n",
    "    else:\n",
    "        device = torch.device('cuda:0' if torch.cuda.is_available() else 'cpu')\n",
    "        model.to(device)\n",
    "    correct = 0\n",
    "    total = 0\n",
    "    with torch.no_grad():\n",
    "        for test_data in test_loader:\n",
    "            images, labels = test_data[0].cuda(), test_data[1].cuda()\n",
    "            images = images.view(-1, input_size)\n",
    "            outputs = net(images)\n",
    "            _, predicted = torch.max(outputs.data, 1)\n",
    "            total += labels.size(0)\n",
    "            correct += (predicted == labels).sum().item()\n",
    "    print('Accuracy of the network on the 10000 test images: %d %%' % (\n",
    "        100 * correct / total))\n",
    "\n"
   ]
  },
  {
   "cell_type": "code",
   "execution_count": 40,
   "id": "31309d11",
   "metadata": {},
   "outputs": [
    {
     "name": "stdout",
     "output_type": "stream",
     "text": [
      "Epoch [1/2], Step [100/600], Loss: 0.3103\n",
      "Epoch [1/2], Step [200/600], Loss: 0.3668\n",
      "Epoch [1/2], Step [300/600], Loss: 0.1782\n",
      "Epoch [1/2], Step [400/600], Loss: 0.1900\n",
      "Epoch [1/2], Step [500/600], Loss: 0.1060\n",
      "Epoch [1/2], Step [600/600], Loss: 0.1643\n",
      "Epoch [2/2], Step [100/600], Loss: 0.0844\n",
      "Epoch [2/2], Step [200/600], Loss: 0.0586\n",
      "Epoch [2/2], Step [300/600], Loss: 0.0875\n",
      "Epoch [2/2], Step [400/600], Loss: 0.0835\n",
      "Epoch [2/2], Step [500/600], Loss: 0.1393\n",
      "Epoch [2/2], Step [600/600], Loss: 0.0395\n",
      "Accuracy of the network on the 10000 test images: 97 %\n"
     ]
    }
   ],
   "source": [
    "# Define Hyperparams\n",
    "input_size = 784 # img_size = (28,28)\n",
    "num_classes = 10 \n",
    "num_epochs = 10 \n",
    "batch_size = 100 \n",
    "lr = 1e-3\n",
    "\n",
    "# Define Model\n",
    "class Net(nn.Module):\n",
    "  def __init__(self, input_size, num_classes):\n",
    "    super(Net,self).__init__()\n",
    "    self.fc1 = nn.Linear(input_size, 500)\n",
    "    self.relu = nn.ReLU()\n",
    "    self.fc2 = nn.Linear(500, num_classes)\n",
    "  \n",
    "  def forward(self,x):\n",
    "    out = self.fc1(x)\n",
    "    out = self.relu(out)\n",
    "    out = self.fc2(out)\n",
    "    return out\n",
    "\n",
    "# Instantiate Model and move to GPU\n",
    "net = Net(input_size, num_classes)\n",
    "\n",
    "# Define Loss Function/Optimizer\n",
    "loss_function = nn.CrossEntropyLoss()\n",
    "optimizer = torch.optim.Adam(net.parameters(), lr=lr)\n",
    "fit(model=net, loss_fn=loss_function, optimizer=optimizer, train_loader=train_loader, batch_size=batch_size, num_epochs=2, input_size=input_size)\n",
    "test_accuracy(model=net, test_loader=test_loader, input_size=input_size)"
   ]
  },
  {
   "cell_type": "code",
   "execution_count": null,
   "id": "e1feb2d8",
   "metadata": {},
   "outputs": [],
   "source": []
  }
 ],
 "metadata": {
  "kernelspec": {
   "display_name": "Python 3 (ipykernel)",
   "language": "python",
   "name": "python3"
  },
  "language_info": {
   "codemirror_mode": {
    "name": "ipython",
    "version": 3
   },
   "file_extension": ".py",
   "mimetype": "text/x-python",
   "name": "python",
   "nbconvert_exporter": "python",
   "pygments_lexer": "ipython3",
   "version": "3.8.13"
  }
 },
 "nbformat": 4,
 "nbformat_minor": 5
}
