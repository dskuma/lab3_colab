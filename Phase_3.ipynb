{
 "cells": [
  {
   "cell_type": "markdown",
   "id": "b4fcbbf9",
   "metadata": {},
   "source": [
    "# Phase 3 - Vehicle Classification\n",
    "\n",
    "This is an open ended phase. You must build a classifier for the Stanford Cars Dataset. You can use any techniques and knowledge from Phase 1 & 2 to aid you."
   ]
  },
  {
   "cell_type": "markdown",
   "id": "1db58858",
   "metadata": {},
   "source": [
    "# Imports\n",
    "\n",
    "Import all the libraries you need for your project"
   ]
  },
  {
   "cell_type": "code",
   "execution_count": null,
   "id": "973648bc",
   "metadata": {},
   "outputs": [],
   "source": [
    "''' TODO '''"
   ]
  },
  {
   "cell_type": "markdown",
   "id": "60b0e403",
   "metadata": {},
   "source": [
    "## Load Dataset\n",
    "The Stanford Dataset is not provided in ```torchvision.datasets```. You will need to create your inherit from ```Dataset``` class to load the dataset and overload the ```___init__()```, ```__len__()```, and ```__getitem__()``` functions.\n",
    "\n",
    "You will find the following link useful to help create the dataset class: https://pytorch.org/tutorials/beginner/data_loading_tutorial.html\n",
    "\n",
    "If you wish, you can create another method in the class: ```visualize()``` to help visualize the data. This is optional and will not be graded"
   ]
  },
  {
   "cell_type": "code",
   "execution_count": null,
   "id": "9f3d9953",
   "metadata": {},
   "outputs": [],
   "source": [
    "class CarDataSet(Dataset):\n",
    "    \n",
    "    def __init__(''' TODO '''):\n",
    "        ''' TODO '''\n",
    "        \n",
    "    def __len__(''' TODO '''):\n",
    "        ''' TODO '''\n",
    "        \n",
    "    def __getitem__(''' TODO '''):\n",
    "        ''' TODO '''"
   ]
  },
  {
   "cell_type": "markdown",
   "id": "1eaffb52",
   "metadata": {},
   "source": [
    "## Load the Dataset and Import into Dataloaders"
   ]
  },
  {
   "cell_type": "code",
   "execution_count": null,
   "id": "a029cc2d",
   "metadata": {},
   "outputs": [],
   "source": [
    "# Load the Data\n",
    "train_data = CarDataSet(''' TODO ''')\n",
    "test_data = CarDataSet(''' TODO ''')\n",
    "\n",
    "# Batch Size\n",
    "batch_size = ''' TODO '''\n",
    "\n",
    "# Import to Dataloaders\n",
    "train_loader = ''' TODO '''\n",
    "\n",
    "test_loader = ''' TODO '''"
   ]
  },
  {
   "cell_type": "markdown",
   "id": "ad2acc24",
   "metadata": {},
   "source": [
    "## Define your Model Architecture\n",
    "\n",
    "It is up to you to decide which model you use. You can create yor own CNN or use transfer learning. "
   ]
  },
  {
   "cell_type": "code",
   "execution_count": null,
   "id": "ed0019e8",
   "metadata": {},
   "outputs": [],
   "source": [
    "# Model definition\n",
    "''' TODO '''\n",
    "\n",
    "# Load Model onto GPU\n",
    "''' TODO '''"
   ]
  },
  {
   "cell_type": "markdown",
   "id": "bfa8640d",
   "metadata": {},
   "source": [
    "## Define Loss function and Optimizer\n",
    "\n",
    "You chose the loss function and optimizer. "
   ]
  },
  {
   "cell_type": "code",
   "execution_count": null,
   "id": "79721682",
   "metadata": {},
   "outputs": [],
   "source": [
    "# Loss Function\n",
    "''' TODO '''\n",
    "\n",
    "# Optimizer\n",
    "''' TODO '''"
   ]
  },
  {
   "cell_type": "markdown",
   "id": "79da9193",
   "metadata": {},
   "source": [
    "## Train your Network"
   ]
  },
  {
   "cell_type": "code",
   "execution_count": null,
   "id": "69ad54c7",
   "metadata": {},
   "outputs": [],
   "source": [
    "# Train Network\n",
    "''' TODO '''"
   ]
  },
  {
   "cell_type": "markdown",
   "id": "8287fe6d",
   "metadata": {},
   "source": [
    "## Evaluate (on Test Set)"
   ]
  },
  {
   "cell_type": "code",
   "execution_count": null,
   "id": "c6cd42f8",
   "metadata": {},
   "outputs": [],
   "source": [
    "# Test Accuracy\n",
    "''' TODO '''"
   ]
  }
 ],
 "metadata": {
  "kernelspec": {
   "display_name": "Python 3 (ipykernel)",
   "language": "python",
   "name": "python3"
  },
  "language_info": {
   "codemirror_mode": {
    "name": "ipython",
    "version": 3
   },
   "file_extension": ".py",
   "mimetype": "text/x-python",
   "name": "python",
   "nbconvert_exporter": "python",
   "pygments_lexer": "ipython3",
   "version": "3.8.13"
  }
 },
 "nbformat": 4,
 "nbformat_minor": 5
}
